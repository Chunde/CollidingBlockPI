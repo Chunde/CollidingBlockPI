{
 "cells": [
  {
   "cell_type": "markdown",
   "id": "constitutional-bruce",
   "metadata": {},
   "source": [
    "# 问题描述\n",
    "假设一个质量为$m$的立方体，它的左边是一堵墙，右边有一个质量为$M$的正以速度为$V_0$向左移动，然后与$m$发生完全弹性碰撞，碰撞后$m$获得速度$v_1$,并开始向左边移动，然后与墙体也发生完全弹性碰撞，它的速度就由$v_1$变成$-v_1$,问：给定$M$的值，小$m$一共发会发生多少次碰撞？\n"
   ]
  },
  {
   "cell_type": "markdown",
   "id": "owned-circulation",
   "metadata": {},
   "source": [
    "根据动量守恒原理：\n",
    "$$\n",
    "mv_0 + MV_0 = mv_1 + MV_1\n",
    "$$\n",
    "机械能守恒原理（省略了二分之一）：\n",
    "$$\n",
    "mv_0^2 + MV_0^2=mv_1^2 + MV_1^2\n",
    "$$\n",
    "\n",
    "经过一点代数运算和重新调整变量的顺序：$$\n",
    "V_1 = \\frac{M-m}{M+m}V_0 + \\frac{2m}{M+m}v_0\\\\\n",
    "v_1 = \\frac{2M}{M+m}V_0 + \\frac{m-M}{M+m}v_0\n",
    "$$\n"
   ]
  },
  {
   "cell_type": "markdown",
   "id": "smoking-boating",
   "metadata": {},
   "source": [
    "## 定义碰撞后速度公式\n",
    "* 假设$m=1$\n",
    "* $V$ 和$v$取正值时表示 向右运动，负值表示向左运动"
   ]
  },
  {
   "cell_type": "code",
   "execution_count": 1,
   "id": "dirty-rescue",
   "metadata": {},
   "outputs": [],
   "source": [
    "def get_V1(V0, v0, M=1): \n",
    "    return (M-1)*V0/(M + 1) + 2/(M+1)*v0 \n",
    "def get_v1(V0, v0, M):\n",
    "    return 2*M*V0/(M+1) + (1-M)*v0/(1+M)"
   ]
  },
  {
   "cell_type": "markdown",
   "id": "labeled-republican",
   "metadata": {},
   "source": [
    "## 使用递归的算法"
   ]
  },
  {
   "cell_type": "code",
   "execution_count": 2,
   "id": "legitimate-mileage",
   "metadata": {},
   "outputs": [],
   "source": [
    "def Sim(V0, v0=1, M=1):\n",
    "    if(V0>=0 and v0 >=0 and V0 > v0):\n",
    "        return 0\n",
    "    if v0 < 0:\n",
    "        return 1 + Sim(V0=V0, v0=-v0, M=M)\n",
    "    V1 = get_V1(V0=V0, v0=v0, M=M)\n",
    "    v1 = get_v1(V0=V0, v0=v0, M=M) \n",
    "    return 1 + Sim(V0=V1, v0=v1, M=M)"
   ]
  },
  {
   "cell_type": "code",
   "execution_count": 3,
   "id": "sealed-france",
   "metadata": {},
   "outputs": [
    {
     "data": {
      "text/plain": [
       "3"
      ]
     },
     "execution_count": 3,
     "metadata": {},
     "output_type": "execute_result"
    }
   ],
   "source": [
    "Sim(V0=-1, v0=0, M=1)"
   ]
  },
  {
   "cell_type": "code",
   "execution_count": 4,
   "id": "fifth-addiction",
   "metadata": {},
   "outputs": [
    {
     "data": {
      "text/plain": [
       "31"
      ]
     },
     "execution_count": 4,
     "metadata": {},
     "output_type": "execute_result"
    }
   ],
   "source": [
    "Sim(V0=-1, v0=0, M=100)"
   ]
  },
  {
   "cell_type": "code",
   "execution_count": 5,
   "id": "adjacent-chemistry",
   "metadata": {},
   "outputs": [
    {
     "data": {
      "text/plain": [
       "314"
      ]
     },
     "execution_count": 5,
     "metadata": {},
     "output_type": "execute_result"
    }
   ],
   "source": [
    "Sim(V0=-1, v0=0, M=10000)"
   ]
  },
  {
   "cell_type": "code",
   "execution_count": 6,
   "id": "earned-doubt",
   "metadata": {},
   "outputs": [
    {
     "ename": "RecursionError",
     "evalue": "maximum recursion depth exceeded in comparison",
     "output_type": "error",
     "traceback": [
      "\u001b[1;31m---------------------------------------------------------------------------\u001b[0m",
      "\u001b[1;31mRecursionError\u001b[0m                            Traceback (most recent call last)",
      "\u001b[1;32m<ipython-input-6-029701142003>\u001b[0m in \u001b[0;36m<module>\u001b[1;34m\u001b[0m\n\u001b[1;32m----> 1\u001b[1;33m \u001b[0mSim\u001b[0m\u001b[1;33m(\u001b[0m\u001b[0mV0\u001b[0m\u001b[1;33m=\u001b[0m\u001b[1;33m-\u001b[0m\u001b[1;36m1\u001b[0m\u001b[1;33m,\u001b[0m \u001b[0mv0\u001b[0m\u001b[1;33m=\u001b[0m\u001b[1;36m0\u001b[0m\u001b[1;33m,\u001b[0m \u001b[0mM\u001b[0m\u001b[1;33m=\u001b[0m\u001b[1;36m1000000\u001b[0m\u001b[1;33m)\u001b[0m\u001b[1;33m\u001b[0m\u001b[1;33m\u001b[0m\u001b[0m\n\u001b[0m",
      "\u001b[1;32m<ipython-input-2-a713ef81bee3>\u001b[0m in \u001b[0;36mSim\u001b[1;34m(V0, v0, M)\u001b[0m\n\u001b[0;32m      6\u001b[0m     \u001b[0mV1\u001b[0m \u001b[1;33m=\u001b[0m \u001b[0mget_V1\u001b[0m\u001b[1;33m(\u001b[0m\u001b[0mV0\u001b[0m\u001b[1;33m=\u001b[0m\u001b[0mV0\u001b[0m\u001b[1;33m,\u001b[0m \u001b[0mv0\u001b[0m\u001b[1;33m=\u001b[0m\u001b[0mv0\u001b[0m\u001b[1;33m,\u001b[0m \u001b[0mM\u001b[0m\u001b[1;33m=\u001b[0m\u001b[0mM\u001b[0m\u001b[1;33m)\u001b[0m\u001b[1;33m\u001b[0m\u001b[1;33m\u001b[0m\u001b[0m\n\u001b[0;32m      7\u001b[0m     \u001b[0mv1\u001b[0m \u001b[1;33m=\u001b[0m \u001b[0mget_v1\u001b[0m\u001b[1;33m(\u001b[0m\u001b[0mV0\u001b[0m\u001b[1;33m=\u001b[0m\u001b[0mV0\u001b[0m\u001b[1;33m,\u001b[0m \u001b[0mv0\u001b[0m\u001b[1;33m=\u001b[0m\u001b[0mv0\u001b[0m\u001b[1;33m,\u001b[0m \u001b[0mM\u001b[0m\u001b[1;33m=\u001b[0m\u001b[0mM\u001b[0m\u001b[1;33m)\u001b[0m\u001b[1;33m\u001b[0m\u001b[1;33m\u001b[0m\u001b[0m\n\u001b[1;32m----> 8\u001b[1;33m     \u001b[1;32mreturn\u001b[0m \u001b[1;36m1\u001b[0m \u001b[1;33m+\u001b[0m \u001b[0mSim\u001b[0m\u001b[1;33m(\u001b[0m\u001b[0mV0\u001b[0m\u001b[1;33m=\u001b[0m\u001b[0mV1\u001b[0m\u001b[1;33m,\u001b[0m \u001b[0mv0\u001b[0m\u001b[1;33m=\u001b[0m\u001b[0mv1\u001b[0m\u001b[1;33m,\u001b[0m \u001b[0mM\u001b[0m\u001b[1;33m=\u001b[0m\u001b[0mM\u001b[0m\u001b[1;33m)\u001b[0m\u001b[1;33m\u001b[0m\u001b[1;33m\u001b[0m\u001b[0m\n\u001b[0m",
      "\u001b[1;32m<ipython-input-2-a713ef81bee3>\u001b[0m in \u001b[0;36mSim\u001b[1;34m(V0, v0, M)\u001b[0m\n\u001b[0;32m      3\u001b[0m         \u001b[1;32mreturn\u001b[0m \u001b[1;36m0\u001b[0m\u001b[1;33m\u001b[0m\u001b[1;33m\u001b[0m\u001b[0m\n\u001b[0;32m      4\u001b[0m     \u001b[1;32mif\u001b[0m \u001b[0mv0\u001b[0m \u001b[1;33m<\u001b[0m \u001b[1;36m0\u001b[0m\u001b[1;33m:\u001b[0m\u001b[1;33m\u001b[0m\u001b[1;33m\u001b[0m\u001b[0m\n\u001b[1;32m----> 5\u001b[1;33m         \u001b[1;32mreturn\u001b[0m \u001b[1;36m1\u001b[0m \u001b[1;33m+\u001b[0m \u001b[0mSim\u001b[0m\u001b[1;33m(\u001b[0m\u001b[0mV0\u001b[0m\u001b[1;33m=\u001b[0m\u001b[0mV0\u001b[0m\u001b[1;33m,\u001b[0m \u001b[0mv0\u001b[0m\u001b[1;33m=\u001b[0m\u001b[1;33m-\u001b[0m\u001b[0mv0\u001b[0m\u001b[1;33m,\u001b[0m \u001b[0mM\u001b[0m\u001b[1;33m=\u001b[0m\u001b[0mM\u001b[0m\u001b[1;33m)\u001b[0m\u001b[1;33m\u001b[0m\u001b[1;33m\u001b[0m\u001b[0m\n\u001b[0m\u001b[0;32m      6\u001b[0m     \u001b[0mV1\u001b[0m \u001b[1;33m=\u001b[0m \u001b[0mget_V1\u001b[0m\u001b[1;33m(\u001b[0m\u001b[0mV0\u001b[0m\u001b[1;33m=\u001b[0m\u001b[0mV0\u001b[0m\u001b[1;33m,\u001b[0m \u001b[0mv0\u001b[0m\u001b[1;33m=\u001b[0m\u001b[0mv0\u001b[0m\u001b[1;33m,\u001b[0m \u001b[0mM\u001b[0m\u001b[1;33m=\u001b[0m\u001b[0mM\u001b[0m\u001b[1;33m)\u001b[0m\u001b[1;33m\u001b[0m\u001b[1;33m\u001b[0m\u001b[0m\n\u001b[0;32m      7\u001b[0m     \u001b[0mv1\u001b[0m \u001b[1;33m=\u001b[0m \u001b[0mget_v1\u001b[0m\u001b[1;33m(\u001b[0m\u001b[0mV0\u001b[0m\u001b[1;33m=\u001b[0m\u001b[0mV0\u001b[0m\u001b[1;33m,\u001b[0m \u001b[0mv0\u001b[0m\u001b[1;33m=\u001b[0m\u001b[0mv0\u001b[0m\u001b[1;33m,\u001b[0m \u001b[0mM\u001b[0m\u001b[1;33m=\u001b[0m\u001b[0mM\u001b[0m\u001b[1;33m)\u001b[0m\u001b[1;33m\u001b[0m\u001b[1;33m\u001b[0m\u001b[0m\n",
      "... last 2 frames repeated, from the frame below ...\n",
      "\u001b[1;32m<ipython-input-2-a713ef81bee3>\u001b[0m in \u001b[0;36mSim\u001b[1;34m(V0, v0, M)\u001b[0m\n\u001b[0;32m      6\u001b[0m     \u001b[0mV1\u001b[0m \u001b[1;33m=\u001b[0m \u001b[0mget_V1\u001b[0m\u001b[1;33m(\u001b[0m\u001b[0mV0\u001b[0m\u001b[1;33m=\u001b[0m\u001b[0mV0\u001b[0m\u001b[1;33m,\u001b[0m \u001b[0mv0\u001b[0m\u001b[1;33m=\u001b[0m\u001b[0mv0\u001b[0m\u001b[1;33m,\u001b[0m \u001b[0mM\u001b[0m\u001b[1;33m=\u001b[0m\u001b[0mM\u001b[0m\u001b[1;33m)\u001b[0m\u001b[1;33m\u001b[0m\u001b[1;33m\u001b[0m\u001b[0m\n\u001b[0;32m      7\u001b[0m     \u001b[0mv1\u001b[0m \u001b[1;33m=\u001b[0m \u001b[0mget_v1\u001b[0m\u001b[1;33m(\u001b[0m\u001b[0mV0\u001b[0m\u001b[1;33m=\u001b[0m\u001b[0mV0\u001b[0m\u001b[1;33m,\u001b[0m \u001b[0mv0\u001b[0m\u001b[1;33m=\u001b[0m\u001b[0mv0\u001b[0m\u001b[1;33m,\u001b[0m \u001b[0mM\u001b[0m\u001b[1;33m=\u001b[0m\u001b[0mM\u001b[0m\u001b[1;33m)\u001b[0m\u001b[1;33m\u001b[0m\u001b[1;33m\u001b[0m\u001b[0m\n\u001b[1;32m----> 8\u001b[1;33m     \u001b[1;32mreturn\u001b[0m \u001b[1;36m1\u001b[0m \u001b[1;33m+\u001b[0m \u001b[0mSim\u001b[0m\u001b[1;33m(\u001b[0m\u001b[0mV0\u001b[0m\u001b[1;33m=\u001b[0m\u001b[0mV1\u001b[0m\u001b[1;33m,\u001b[0m \u001b[0mv0\u001b[0m\u001b[1;33m=\u001b[0m\u001b[0mv1\u001b[0m\u001b[1;33m,\u001b[0m \u001b[0mM\u001b[0m\u001b[1;33m=\u001b[0m\u001b[0mM\u001b[0m\u001b[1;33m)\u001b[0m\u001b[1;33m\u001b[0m\u001b[1;33m\u001b[0m\u001b[0m\n\u001b[0m",
      "\u001b[1;31mRecursionError\u001b[0m: maximum recursion depth exceeded in comparison"
     ]
    }
   ],
   "source": [
    "Sim(V0=-1, v0=0, M=1000000)"
   ]
  },
  {
   "cell_type": "markdown",
   "id": "nasty-consolidation",
   "metadata": {},
   "source": [
    "## 使用非递归的算法"
   ]
  },
  {
   "cell_type": "code",
   "execution_count": 7,
   "id": "black-indian",
   "metadata": {},
   "outputs": [],
   "source": [
    "def SimFast(V0, v0=1, M=1):\n",
    "    c = 0 # 碰撞次数 collison times\n",
    "    while (True):\n",
    "        # 当两个物体向右运动，最右边的速度大于第一个，模拟结束\n",
    "        # simulation is done when the second M is fater than m and both move to right\n",
    "        if V0>= 0 and v0 >= 0 and V0 > v0: \n",
    "            return c\n",
    "        # 小m向左运动会撞墙，速度取反\n",
    "        # the m will hit the wall and its velocity will be reversed\n",
    "        if (v0 < 0):\n",
    "            c = c+1\n",
    "            v0 = -v0\n",
    "            continue\n",
    "        # 计算碰撞后的速度，为下一次模拟做准备\n",
    "        # compute the velocities after collision, will be used for next collision        \n",
    "        V1 = get_V1(V0=V0, v0=v0, M=M)\n",
    "        v1 = get_v1(V0=V0, v0=v0, M=M)\n",
    "        V0, v0 = V1, v1\n",
    "        c = c + 1\n",
    "    return c"
   ]
  },
  {
   "cell_type": "code",
   "execution_count": 8,
   "id": "anonymous-glasgow",
   "metadata": {},
   "outputs": [
    {
     "data": {
      "text/plain": [
       "3"
      ]
     },
     "execution_count": 8,
     "metadata": {},
     "output_type": "execute_result"
    }
   ],
   "source": [
    "SimFast(V0=-1, v0=0, M=1)"
   ]
  },
  {
   "cell_type": "code",
   "execution_count": 9,
   "id": "respected-injury",
   "metadata": {},
   "outputs": [
    {
     "data": {
      "text/plain": [
       "31"
      ]
     },
     "execution_count": 9,
     "metadata": {},
     "output_type": "execute_result"
    }
   ],
   "source": [
    "SimFast(V0=-1, v0=0, M=100)"
   ]
  },
  {
   "cell_type": "code",
   "execution_count": 10,
   "id": "oriental-pharmacology",
   "metadata": {},
   "outputs": [
    {
     "data": {
      "text/plain": [
       "314"
      ]
     },
     "execution_count": 10,
     "metadata": {},
     "output_type": "execute_result"
    }
   ],
   "source": [
    "SimFast(V0=-1, v0=0, M=10000)"
   ]
  },
  {
   "cell_type": "code",
   "execution_count": 11,
   "id": "ceramic-abraham",
   "metadata": {},
   "outputs": [
    {
     "data": {
      "text/plain": [
       "3141"
      ]
     },
     "execution_count": 11,
     "metadata": {},
     "output_type": "execute_result"
    }
   ],
   "source": [
    "SimFast(V0=-1, v0=0, M=1000000)"
   ]
  },
  {
   "cell_type": "code",
   "execution_count": 12,
   "id": "entertaining-mailing",
   "metadata": {},
   "outputs": [
    {
     "data": {
      "text/plain": [
       "31415"
      ]
     },
     "execution_count": 12,
     "metadata": {},
     "output_type": "execute_result"
    }
   ],
   "source": [
    "SimFast(V0=-1, v0=0, M=100000000)"
   ]
  },
  {
   "cell_type": "code",
   "execution_count": 13,
   "id": "alternative-overhead",
   "metadata": {},
   "outputs": [
    {
     "data": {
      "text/plain": [
       "314159"
      ]
     },
     "execution_count": 13,
     "metadata": {},
     "output_type": "execute_result"
    }
   ],
   "source": [
    "SimFast(V0=-1, v0=0, M=10000000000)"
   ]
  },
  {
   "cell_type": "code",
   "execution_count": 14,
   "id": "military-louisville",
   "metadata": {},
   "outputs": [
    {
     "data": {
      "text/plain": [
       "3141592"
      ]
     },
     "execution_count": 14,
     "metadata": {},
     "output_type": "execute_result"
    }
   ],
   "source": [
    "SimFast(V0=-1, v0=0, M=1000000000000)"
   ]
  },
  {
   "cell_type": "code",
   "execution_count": 15,
   "id": "local-contents",
   "metadata": {},
   "outputs": [
    {
     "data": {
      "text/plain": [
       "31415926"
      ]
     },
     "execution_count": 15,
     "metadata": {},
     "output_type": "execute_result"
    }
   ],
   "source": [
    "SimFast(V0=-1, v0=0, M=100000000000000)"
   ]
  },
  {
   "cell_type": "code",
   "execution_count": null,
   "id": "becoming-reunion",
   "metadata": {},
   "outputs": [],
   "source": []
  }
 ],
 "metadata": {
  "kernelspec": {
   "display_name": "Python 3",
   "language": "python",
   "name": "python3"
  },
  "language_info": {
   "codemirror_mode": {
    "name": "ipython",
    "version": 3
   },
   "file_extension": ".py",
   "mimetype": "text/x-python",
   "name": "python",
   "nbconvert_exporter": "python",
   "pygments_lexer": "ipython3",
   "version": "3.7.2"
  }
 },
 "nbformat": 4,
 "nbformat_minor": 5
}
