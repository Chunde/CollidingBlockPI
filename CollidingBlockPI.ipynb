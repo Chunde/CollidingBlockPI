{
 "cells": [
  {
   "cell_type": "markdown",
   "id": "constitutional-bruce",
   "metadata": {},
   "source": [
    "# 问题描述 (Description)\n",
    "假设一个质量为$m$的立方体，它的左边是一堵墙，右边有一个质量为$M$的正以速度为$V_0$向左移动，然后与$m$发生完全弹性碰撞，碰撞后$m$获得速度$v_1$,并开始向左边移动，然后与墙体也发生完全弹性碰撞，它的速度就由$v_1$变成$-v_1$,问：给定$M$的值，小$m$一共发会发生多少次碰撞？\n",
    "\n",
    "Please check Wikipedia for the derivation[https://en.wikipedia.org/wiki/Elastic_collision]\n"
   ]
  },
  {
   "cell_type": "markdown",
   "id": "owned-circulation",
   "metadata": {},
   "source": [
    "根据动量守恒原理：\n",
    "$$\n",
    "mv_0 + MV_0 = mv_1 + MV_1\n",
    "$$\n",
    "机械能守恒原理（省略了二分之一）：\n",
    "$$\n",
    "mv_0^2 + MV_0^2=mv_1^2 + MV_1^2\n",
    "$$\n",
    "\n",
    "经过一点代数运算和重新调整变量的顺序：$$\n",
    "V_1 = \\frac{M-m}{M+m}V_0 + \\frac{2m}{M+m}v_0\\\\\n",
    "v_1 = \\frac{2M}{M+m}V_0 + \\frac{m-M}{M+m}v_0\n",
    "$$\n"
   ]
  },
  {
   "cell_type": "markdown",
   "id": "smoking-boating",
   "metadata": {},
   "source": [
    "## 定义碰撞后速度公式 (Define functions to compute velocities after collision)\n",
    "* 假设$m=1 $(let $m=1$)\n",
    "* $V$ 和$v$取正值时表示 向右运动，负值表示向左运动"
   ]
  },
  {
   "cell_type": "code",
   "execution_count": 7,
   "id": "dirty-rescue",
   "metadata": {},
   "outputs": [],
   "source": [
    "def get_V1(V0, v0, M=1): \n",
    "    #返回M碰撞后的速度\n",
    "    # return the velocity of big M after collision\n",
    "    return (M-1)*V0/(M + 1) + 2/(M+1)*v0 \n",
    "\n",
    "def get_v1(V0, v0, M):\n",
    "     #返回小m碰撞后的速度\n",
    "    # return the velocity of small m after collision\n",
    "    return 2*M*V0/(M+1) + (1-M)*v0/(1+M)"
   ]
  },
  {
   "cell_type": "markdown",
   "id": "labeled-republican",
   "metadata": {},
   "source": [
    "## 使用递归的算法 (Recursive Method)"
   ]
  },
  {
   "cell_type": "code",
   "execution_count": 8,
   "id": "legitimate-mileage",
   "metadata": {},
   "outputs": [],
   "source": [
    "def Sim(V0, v0=1, M=1):\n",
    "    if(V0>=0 and v0 >=0 and V0 > v0):\n",
    "        return 0\n",
    "    if v0 < 0:\n",
    "        return 1 + Sim(V0=V0, v0=-v0, M=M)\n",
    "    V1 = get_V1(V0=V0, v0=v0, M=M)\n",
    "    v1 = get_v1(V0=V0, v0=v0, M=M) \n",
    "    return 1 + Sim(V0=V1, v0=v1, M=M)"
   ]
  },
  {
   "cell_type": "code",
   "execution_count": 9,
   "id": "sealed-france",
   "metadata": {},
   "outputs": [
    {
     "data": {
      "text/plain": [
       "3"
      ]
     },
     "execution_count": 9,
     "metadata": {},
     "output_type": "execute_result"
    }
   ],
   "source": [
    "Sim(V0=-1, v0=0, M=1)"
   ]
  },
  {
   "cell_type": "code",
   "execution_count": 10,
   "id": "fifth-addiction",
   "metadata": {},
   "outputs": [
    {
     "data": {
      "text/plain": [
       "31"
      ]
     },
     "execution_count": 10,
     "metadata": {},
     "output_type": "execute_result"
    }
   ],
   "source": [
    "Sim(V0=-1, v0=0, M=100)"
   ]
  },
  {
   "cell_type": "code",
   "execution_count": 11,
   "id": "adjacent-chemistry",
   "metadata": {},
   "outputs": [
    {
     "data": {
      "text/plain": [
       "314"
      ]
     },
     "execution_count": 11,
     "metadata": {},
     "output_type": "execute_result"
    }
   ],
   "source": [
    "Sim(V0=-1, v0=0, M=10000)"
   ]
  },
  {
   "cell_type": "markdown",
   "id": "nasty-consolidation",
   "metadata": {},
   "source": [
    "## 使用非递归的算法 (Non-recursive method)"
   ]
  },
  {
   "cell_type": "code",
   "execution_count": 22,
   "id": "black-indian",
   "metadata": {},
   "outputs": [],
   "source": [
    "def SimFast(V0, v0, M=1):\n",
    "    c = 0 # 碰撞次数 collison times\n",
    "    Vs = []\n",
    "    vs = []\n",
    "    while (True):\n",
    "        Vs.append(V0)\n",
    "        vs.append(v0)\n",
    "        # 当两个物体向右运动，最右边的速度大于第一个，模拟结束\n",
    "        # simulation is done when the second M is fater than m and both move to right\n",
    "        if V0>= 0 and v0 >= 0 and V0 > v0: \n",
    "            return c\n",
    "        # 小m向左运动会撞墙，速度取反\n",
    "        # the m will hit the wall and its velocity will be reversed\n",
    "        if (v0 < 0):\n",
    "            c = c+1\n",
    "            v0 = -v0\n",
    "            continue\n",
    "        # 计算碰撞后的速度，为下一次模拟做准备\n",
    "        # compute the velocities after collision, will be used for next collision        \n",
    "        V1 = get_V1(V0=V0, v0=v0, M=M)\n",
    "        v1 = get_v1(V0=V0, v0=v0, M=M)\n",
    "        V0, v0 = V1, v1\n",
    "        c = c + 1\n",
    "    return c"
   ]
  },
  {
   "cell_type": "code",
   "execution_count": 19,
   "id": "anonymous-glasgow",
   "metadata": {},
   "outputs": [
    {
     "data": {
      "text/plain": [
       "3"
      ]
     },
     "execution_count": 19,
     "metadata": {},
     "output_type": "execute_result"
    }
   ],
   "source": [
    "SimFast(V0=-1, v0=0, M=1)"
   ]
  },
  {
   "cell_type": "code",
   "execution_count": 9,
   "id": "respected-injury",
   "metadata": {},
   "outputs": [
    {
     "data": {
      "text/plain": [
       "31"
      ]
     },
     "execution_count": 9,
     "metadata": {},
     "output_type": "execute_result"
    }
   ],
   "source": [
    "SimFast(V0=-1, v0=0, M=100)"
   ]
  },
  {
   "cell_type": "code",
   "execution_count": 10,
   "id": "oriental-pharmacology",
   "metadata": {},
   "outputs": [
    {
     "data": {
      "text/plain": [
       "314"
      ]
     },
     "execution_count": 10,
     "metadata": {},
     "output_type": "execute_result"
    }
   ],
   "source": [
    "SimFast(V0=-1, v0=0, M=10000)"
   ]
  },
  {
   "cell_type": "code",
   "execution_count": 15,
   "id": "local-contents",
   "metadata": {},
   "outputs": [
    {
     "data": {
      "text/plain": [
       "31415926"
      ]
     },
     "execution_count": 15,
     "metadata": {},
     "output_type": "execute_result"
    }
   ],
   "source": [
    "SimFast(V0=-1, v0=0, M=100000000000000)"
   ]
  },
  {
   "cell_type": "markdown",
   "id": "organizational-light",
   "metadata": {},
   "source": [
    "# 可视化 （Visualization）\n",
    "* 可视化用到ipywidgets 组件，如果你的系统没有，可能运行出错，用 pip install ipywidgets 命令进行安装\n",
    "* Here we use ipywidgets package for visulization, you may need to install it using command line: pip install ipywidgets"
   ]
  },
  {
   "cell_type": "code",
   "execution_count": 21,
   "id": "comparable-distribution",
   "metadata": {},
   "outputs": [],
   "source": [
    "def SimFastEx(M=1):\n",
    "    v0 = 0\n",
    "    V0 = -1\n",
    "    c = 0 # 碰撞次数 collison times\n",
    "    Vs = []\n",
    "    vs = []\n",
    "    while (True):\n",
    "        Vs.append(V0)\n",
    "        vs.append(v0)\n",
    "        # 当两个物体向右运动，最右边的速度大于第一个，模拟结束\n",
    "        # simulation is done when the second M is fater than m and both move to right\n",
    "        if V0>= 0 and v0 >= 0 and V0 > v0: \n",
    "            return (c, Vs, vs)\n",
    "        # 小m向左运动会撞墙，速度取反\n",
    "        # the m will hit the wall and its velocity will be reversed\n",
    "        if (v0 < 0):\n",
    "            c = c+1\n",
    "            v0 = -v0\n",
    "            continue\n",
    "        # 计算碰撞后的速度，为下一次模拟做准备\n",
    "        # compute the velocities after collision, will be used for next collision        \n",
    "        V1 = get_V1(V0=V0, v0=v0, M=M)\n",
    "        v1 = get_v1(V0=V0, v0=v0, M=M)\n",
    "        V0, v0 = V1, v1\n",
    "        c = c + 1\n",
    "    return (c, Vs, vs)"
   ]
  },
  {
   "cell_type": "markdown",
   "id": "anonymous-cause",
   "metadata": {},
   "source": [
    "* 将每次碰撞的速度绘制出来，Y轴表示大$M$的速度$V$， X轴表示小m的速度v\n",
    "* Plot all $V$s and $v$s in a plane, where $y$ axis is the $V$, and $x$ axis is $v$"
   ]
  },
  {
   "cell_type": "code",
   "execution_count": 83,
   "id": "becoming-reunion",
   "metadata": {},
   "outputs": [
    {
     "name": "stdout",
     "output_type": "stream",
     "text": [
      "Populating the interactive namespace from numpy and matplotlib\n"
     ]
    },
    {
     "data": {
      "application/vnd.jupyter.widget-view+json": {
       "model_id": "c70b8d5a36c64ea188a1c60b29fa560c",
       "version_major": 2,
       "version_minor": 0
      },
      "text/plain": [
       "interactive(children=(IntSlider(value=2, description='n', max=5), Output()), _dom_classes=('widget-interact',)…"
      ]
     },
     "metadata": {},
     "output_type": "display_data"
    }
   ],
   "source": [
    "%pylab inline --no-import-all\n",
    "from ipywidgets import interact\n",
    "def f(E, T):\n",
    "    \"\"\"Fermi distribution function\"\"\"\n",
    "    T = max(T, 1e-32)\n",
    "    return 1./(1+np.exp(E/T))\n",
    "@interact(n=(0, 5, 1))\n",
    "def go(n):\n",
    "    M = 100**n\n",
    "    c, Vs, vs = SimFastEx(M=M)\n",
    "    plt.figure(figsize=(8, 8))\n",
    "    plt.plot(vs, Vs, '-o')\n",
    "    plt.title(f\"collision:{c}\")\n",
    "    plt.xlabel(r\"$v$\")\n",
    "    plt.ylabel(r\"$V$\")\n",
    "   "
   ]
  },
  {
   "cell_type": "markdown",
   "id": "bridal-support",
   "metadata": {},
   "source": [
    "## 动态展示 (Animation)"
   ]
  },
  {
   "cell_type": "code",
   "execution_count": 84,
   "id": "patient-daughter",
   "metadata": {},
   "outputs": [],
   "source": [
    "from IPython.display import clear_output\n",
    "\n",
    "def SimFastPlot(n=1): \n",
    "    assert n < 3    \n",
    "    M = 100**n  \n",
    "    v0 = 0\n",
    "    V0 = -1\n",
    "    c = 0 # 碰撞次数 collison times\n",
    "    Vs = []\n",
    "    vs = []\n",
    "    fig = plt.figure(figsize=(8, 8))\n",
    "    while (True):\n",
    "        Vs.append(V0)\n",
    "        vs.append(v0)\n",
    "        plt.clf()\n",
    "        plt.plot(vs, Vs, '-o')\n",
    "        plt.xlabel(r\"$v$\")\n",
    "        plt.ylabel(r\"$V$\")\n",
    "        display(fig)\n",
    "        clear_output(wait=True)\n",
    "        # 当两个物体向右运动，最右边的速度大于第一个，模拟结束\n",
    "        # simulation is done when the second M is fater than m and both move to right\n",
    "        if V0>= 0 and v0 >= 0 and V0 > v0: \n",
    "            return #(c, Vs, vs)\n",
    "        # 小m向左运动会撞墙，速度取反\n",
    "        # the m will hit the wall and its velocity will be reversed\n",
    "        if (v0 < 0):\n",
    "            c = c+1\n",
    "            v0 = -v0\n",
    "            continue\n",
    "        # 计算碰撞后的速度，为下一次模拟做准备\n",
    "        # compute the velocities after collision, will be used for next collision        \n",
    "        V1 = get_V1(V0=V0, v0=v0, M=M)\n",
    "        v1 = get_v1(V0=V0, v0=v0, M=M)\n",
    "        V0, v0 = V1, v1\n",
    "        c = c + 1\n",
    "    display(fig)"
   ]
  },
  {
   "cell_type": "code",
   "execution_count": 86,
   "id": "minor-aging",
   "metadata": {},
   "outputs": [
    {
     "data": {
      "image/png": "[encoded data removed]",
      "text/plain": [
       "<Figure size 576x576 with 1 Axes>"
      ]
     },
     "metadata": {
      "needs_background": "light"
     },
     "output_type": "display_data"
    }
   ],
   "source": [
    "SimFastPlot(2);"
   ]
  },
  {
   "cell_type": "code",
   "execution_count": null,
   "id": "strategic-assistant",
   "metadata": {},
   "outputs": [],
   "source": []
  }
 ],
 "metadata": {
  "kernelspec": {
   "display_name": "Python 3",
   "language": "python",
   "name": "python3"
  },
  "language_info": {
   "codemirror_mode": {
    "name": "ipython",
    "version": 3
   },
   "file_extension": ".py",
   "mimetype": "text/x-python",
   "name": "python",
   "nbconvert_exporter": "python",
   "pygments_lexer": "ipython3",
   "version": "3.7.2"
  }
 },
 "nbformat": 4,
 "nbformat_minor": 5
}
